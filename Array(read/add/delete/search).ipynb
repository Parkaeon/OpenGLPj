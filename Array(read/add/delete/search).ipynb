{
  "nbformat": 4,
  "nbformat_minor": 0,
  "metadata": {
    "colab": {
      "name": "자료구조와알고리즘개론_실습1_도자예술학과_박예은_1612111.ipynb",
      "private_outputs": true,
      "provenance": [],
      "collapsed_sections": [],
      "toc_visible": true,
      "include_colab_link": true
    },
    "kernelspec": {
      "name": "python3",
      "display_name": "Python 3"
    }
  },
  "cells": [
    {
      "cell_type": "markdown",
      "metadata": {
        "id": "view-in-github",
        "colab_type": "text"
      },
      "source": [
        "<a href=\"https://colab.research.google.com/github/Parkaeon/OpenGLPj/blob/master/Array(read/add/delete/search).ipynb\" target=\"_parent\"><img src=\"https://colab.research.google.com/assets/colab-badge.svg\" alt=\"Open In Colab\"/></a>"
      ]
    },
    {
      "cell_type": "markdown",
      "metadata": {
        "id": "gSUhfzveaZng"
      },
      "source": [
        "2021년 9월 9일 실습1 도자예술학과 박예은(학번:1612111)"
      ]
    },
    {
      "cell_type": "markdown",
      "metadata": {
        "id": "0p-aaSsjWpgJ"
      },
      "source": [
        "# 수업 내용\n",
        "\n",
        "1.   실습 준비 방법\n",
        "2.   코랩 사용 방법\n",
        "3.   과제 제출 방법\n",
        "4.   실습\n",
        "\n"
      ]
    },
    {
      "cell_type": "markdown",
      "metadata": {
        "id": "ECRVJv4zfB8g"
      },
      "source": [
        "# **실습전 할일**\n",
        "0. 실습 내용 사본 만들기\n",
        "\n",
        "\n",
        "# **사본 만들기**\n",
        "\n",
        "- 방법 1: 셀 복사하기 \n",
        "\n",
        "\n",
        "> 1.   [파일]  -> [새노트]\n",
        "2.   새노트 이름 변경 ex) 1234567_이화연.ipynb \n",
        "3.   [수정]  -> [모든 셀 선택] -> [셀 또는 선택 항목 복사] -> [붙여넣기]\n",
        "\n",
        "\n",
        "\n",
        "- 방법 2:  파일 사본 만들기\n",
        "\n",
        "\n",
        "\n",
        ">1.  [파일] -> [드라이브에 사본 저장]\n",
        "2.   만들어진 \"ipynb의 사본\" 파일의 이름 변경 ex) 1234567_이화연.ipynb \n",
        "\n",
        "\n",
        "\n",
        "**공유자 추가**\n",
        "\n",
        "교수: 김연정   yj.kim07.ewha@gmail.com\n",
        "\n",
        "조교: 박상아   assistant.ewha@gmail.com\n",
        "\n",
        "\n",
        "\n",
        "\n"
      ]
    },
    {
      "cell_type": "markdown",
      "metadata": {
        "id": "D9ln3qloi02g"
      },
      "source": [
        "# **Google Colab**\n",
        "구글 계정 전용의 가상 머신 지원 GPU 포함\n",
        "- Google drive 문서와 같이 링크만으로 접근 / 협업 가능\n",
        "- 코드 실행 시 딜레이 존재\n",
        "\n",
        "개인구글계정필요\n",
        "- Colab과 Jupyter Notebook 사용방법은 유사한 부분이 많음\n",
        "- 실습수업에서는 Colab 사용 \n",
        "\n",
        "파일 생성 접근 방법\n",
        "- 개인 구글 계정으로 접속\n",
        "- https://colab.research.google.com 접속"
      ]
    },
    {
      "cell_type": "markdown",
      "metadata": {
        "id": "Itp5VBqAQ8aJ"
      },
      "source": [
        "실습 제출 방식\n",
        "\n",
        "  - 제출 파일 형식\n",
        "\n",
        "  1. Google Colab 노트 이름 규칙\n",
        "\n",
        "        파이썬과데이터분석_실습번호_학과_이름_학번\n",
        "\n",
        "        예) 파이썬과데이터분석_실습1_컴퓨터학과_김아무개_777777\n",
        "\n",
        "2. Google Colab 노트 첫번째 텍스트 셀에 작성일자 및 작성자 표기\n",
        "\n",
        "       예)  2021년 9월 9일 실습 1\n",
        "\n",
        "              컴퓨터학과 김연정(학번:77777777) 작성  \n",
        "\n",
        "     - 제출물(압축할 필요없음)\n",
        "\n",
        "      1. Google Colab에서 노트 pdf로인쇄(pdf 파일)\n",
        "\n",
        "      2. Google Colab에서 .ipynb파일 다운로드 받아서 제출( 성적 증빙 자료로 사용)\n",
        "- 제출 기한\n",
        "\n",
        "   - 실습 다음날 자정전까지 \n",
        "   > 예) 2021년 9월10일 23시 59분"
      ]
    },
    {
      "cell_type": "markdown",
      "metadata": {
        "id": "53MpIc1EoB1Y"
      },
      "source": [
        "# **오늘의 실습 내용**\n",
        "실습1. 배열의 읽기\n",
        "\n",
        "실습2. 배열의 삽입\n",
        "\n",
        "실습3. 배열의 삭제\n",
        "\n",
        "실습4. 소수인지 판단하는 프로그램 (3장)"
      ]
    },
    {
      "cell_type": "markdown",
      "metadata": {
        "id": "obaMsnhdDtSS"
      },
      "source": [
        "가상의 메모리 만들기"
      ]
    },
    {
      "cell_type": "code",
      "metadata": {
        "id": "CcyqmfwPDtlB"
      },
      "source": [
        "memory = []\n",
        "numberOfArray = 0\n",
        "memorysize=100"
      ],
      "execution_count": null,
      "outputs": []
    },
    {
      "cell_type": "code",
      "metadata": {
        "id": "FAiMtWAVGWVg"
      },
      "source": [
        "#메모리 초기화\n",
        "def init_memory():\n",
        "    for i in range(memorysize):\n",
        "        memory.append(-1)\n"
      ],
      "execution_count": null,
      "outputs": []
    },
    {
      "cell_type": "code",
      "metadata": {
        "id": "4uiKT491GeB7"
      },
      "source": [
        "init_memory()"
      ],
      "execution_count": null,
      "outputs": []
    },
    {
      "cell_type": "markdown",
      "metadata": {
        "id": "JbYT3W45EGd1"
      },
      "source": [
        "메모리 상태 출력"
      ]
    },
    {
      "cell_type": "code",
      "metadata": {
        "id": "1Dhl2USVEGp0"
      },
      "source": [
        "for i in range(memorysize):\n",
        "    print(memory[i], end = \"\\t\")\n",
        "    if (i+1) %10 == 0:\n",
        "        print()"
      ],
      "execution_count": null,
      "outputs": []
    },
    {
      "cell_type": "markdown",
      "metadata": {
        "id": "uXn8DkByICx6"
      },
      "source": [
        "배열의 읽기"
      ]
    },
    {
      "cell_type": "code",
      "metadata": {
        "id": "l6B7m6krJEnn"
      },
      "source": [
        "#배열 읽기 연산 구현\n",
        "def read():\n",
        "    global numberOfArray\n",
        "    print(\"length of Array:\", numberOfArray)\n",
        "    print(\"elements of Array:\")\n",
        "    for i in range(numberOfArray):\n",
        "        print(memory[i], end = \"\\t\")\n",
        "        if(i+1)%10 == 0:\n",
        "            print()\n",
        "            return\n"
      ],
      "execution_count": null,
      "outputs": []
    },
    {
      "cell_type": "markdown",
      "metadata": {
        "id": "dcCnYLn5FU9Z"
      },
      "source": [
        " 읽기 연산 실행"
      ]
    },
    {
      "cell_type": "code",
      "metadata": {
        "id": "zOmy8mFnFUS0"
      },
      "source": [
        "read()"
      ],
      "execution_count": null,
      "outputs": []
    },
    {
      "cell_type": "markdown",
      "metadata": {
        "id": "_AIg-2TWJHTf"
      },
      "source": [
        "배열의 삽입"
      ]
    },
    {
      "cell_type": "code",
      "metadata": {
        "id": "2aBVwvXMJHvW"
      },
      "source": [
        "#배열의 삽입 연산 구현\n",
        "def insert(index, element):\n",
        "    global numberOfArray\n",
        "\n",
        "    if numberOfArray < index:\n",
        "        print(\"out of range\")\n",
        "        return\n",
        "    \n",
        "    if numberOfArray != index:\n",
        "        for i in range(numberOfArray, index, -1):\n",
        "            memory[i] = memory[i-1]\n",
        "    memory[index] = element\n",
        "\n",
        "    numberOfArray = numberOfArray + 1\n",
        "    return\n",
        "    "
      ],
      "execution_count": null,
      "outputs": []
    },
    {
      "cell_type": "markdown",
      "metadata": {
        "id": "SaFv1TdcF63T"
      },
      "source": [
        "삽입 연산 실행"
      ]
    },
    {
      "cell_type": "code",
      "metadata": {
        "id": "nXDKqH0GF7hg"
      },
      "source": [
        "insert(0, 3)\n",
        "insert(1, 5)\n",
        "read()\n"
      ],
      "execution_count": null,
      "outputs": []
    },
    {
      "cell_type": "markdown",
      "metadata": {
        "id": "82uKNzisJH5f"
      },
      "source": [
        "배열의 삭제\n"
      ]
    },
    {
      "cell_type": "code",
      "metadata": {
        "id": "ruVn8PeYJIFG"
      },
      "source": [
        "#삭제 연산 구현\n",
        "def delete(index_number):\n",
        "    global numberOfArray\n",
        "    if numberOfArray-1 < index_number:\n",
        "        print(\"out of range\")\n",
        "        return\n",
        "    for i in range(index_number, numberOfArray-1):\n",
        "        memory[i] = memory[i+1]\n",
        "    memory[numberOfArray-1] = -1\n",
        "    numberOfArray = numberOfArray -1\n"
      ],
      "execution_count": null,
      "outputs": []
    },
    {
      "cell_type": "markdown",
      "metadata": {
        "id": "wJowAvrMInVr"
      },
      "source": [
        "삭제 연산 실행"
      ]
    },
    {
      "cell_type": "code",
      "metadata": {
        "id": "BooHKIZBItwI"
      },
      "source": [
        "delete(0)\n",
        "read()"
      ],
      "execution_count": null,
      "outputs": []
    },
    {
      "cell_type": "markdown",
      "metadata": {
        "id": "u7a1oq3wCL8b"
      },
      "source": [
        "연산 실행 1"
      ]
    },
    {
      "cell_type": "code",
      "metadata": {
        "id": "mQh7raeRJRUQ"
      },
      "source": [
        "read()\n",
        "print()\n",
        "insert(0, 0)\n",
        "insert(0, 1)\n",
        "insert(0, 2)\n",
        "insert(0, 3)\n",
        "insert(0, 4)\n",
        "insert(0, 5)\n",
        "read()\n",
        "print()\n",
        "delete(7)\n",
        "print()\n",
        "delete(3)\n",
        "read()\n"
      ],
      "execution_count": null,
      "outputs": []
    },
    {
      "cell_type": "markdown",
      "metadata": {
        "id": "6GUw8XQ3NErC"
      },
      "source": [
        "연산 실행 2"
      ]
    },
    {
      "cell_type": "code",
      "metadata": {
        "id": "ZVXK5QS8NH9Y"
      },
      "source": [
        "for i in range(memorysize):\n",
        "    print(memory[i], end = \"\\t\")\n",
        "    if (i+1) %10 == 0:\n",
        "        print()\n",
        "\n",
        "insert(0, 0)\n",
        "insert(0, 1)\n",
        "insert(0, 2)\n",
        "insert(0, 3)\n",
        "insert(0, 4)\n",
        "insert(0, 5)\n",
        "read()\n",
        "delete(7)\n",
        "delete(3)\n",
        "read()"
      ],
      "execution_count": null,
      "outputs": []
    },
    {
      "cell_type": "markdown",
      "metadata": {
        "id": "CSse16xoFdpG"
      },
      "source": [
        "배열의 읽기\n",
        " - 특정 위치의 배열 원소 읽기"
      ]
    },
    {
      "cell_type": "code",
      "metadata": {
        "id": "C3YK8KyE7E-J"
      },
      "source": [
        "#특정 위치의 배열 원소 읽기 연산 구현\n",
        "\n",
        "def readKth(k):\n",
        "    print(k, \"번째 원소 =>\", end = '')\n",
        "    print(memory[k-1])\n",
        "    print()\n",
        "    return \n",
        "\n",
        "readKth(2)"
      ],
      "execution_count": null,
      "outputs": []
    },
    {
      "cell_type": "code",
      "metadata": {
        "id": "NTcO1ZnLR2EG"
      },
      "source": [
        "readKth(2)"
      ],
      "execution_count": null,
      "outputs": []
    },
    {
      "cell_type": "markdown",
      "metadata": {
        "id": "4XAD6XnR7FS6"
      },
      "source": [
        "배열의 검색"
      ]
    },
    {
      "cell_type": "code",
      "metadata": {
        "id": "f1WTaoJW7HTx"
      },
      "source": [
        "#배열의 검색 연산 구현\n",
        "def search(k):\n",
        "    global numberOfArray\n",
        "    for i in range(numberOfArray):\n",
        "        if memory[i] == k:\n",
        "            return(i)\n",
        "\n",
        "    return None"
      ],
      "execution_count": null,
      "outputs": []
    },
    {
      "cell_type": "code",
      "metadata": {
        "id": "L47SIzQrRAqs"
      },
      "source": [
        "#배열의 검색 실행\n",
        "index = search(2)\n",
        "print('2의 위치=> ', index )\n",
        "index = search(3)\n",
        "print('3의 위치=> ', index )"
      ],
      "execution_count": null,
      "outputs": []
    }
  ]
}